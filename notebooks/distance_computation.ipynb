{
 "cells": [
  {
   "cell_type": "code",
   "execution_count": 4,
   "metadata": {},
   "outputs": [],
   "source": [
    "from geopy import distance\n",
    "import pandas as pd\n",
    "import numpy as np\n",
    "import matplotlib.pyplot as plt\n",
    "import networkx as nx\n",
    "\n",
    "\n",
    "def dist(set1, set2):\n",
    "    \"\"\" Measrue geodesic distance in kilometers between to pairs of coordinates.\"\"\"\n",
    "    return distance.distance(set1,set2).km"
   ]
  },
  {
   "cell_type": "code",
   "execution_count": 8,
   "metadata": {},
   "outputs": [],
   "source": [
    "# take 100 cities\n",
    "n = 100\n",
    "cities = pd.read_csv(\"../datasets/all_canadacities.csv\", delimiter=',')\n",
    "cities_bc = cities.loc[cities['province_id'] == \"BC\"]\n",
    "cities_sorted = cities_bc.sort_values(\"population\", ascending=False)\n",
    "select_cities = cities_sorted.head(n)\n",
    "\n",
    "distance_matrix = np.zeros((n,n))\n",
    "city_names = []\n",
    "\n",
    "# get all the distances for cities\n",
    "for i in range(0, n):\n",
    "    city_i = select_cities.iloc[i]\n",
    "    i_coords = [float(city_i['lat']), float(city_i['lng'])]\n",
    "    city_names.append(city_i['city'])\n",
    "    for j in range(0,n):\n",
    "        city_j = select_cities.iloc[j]\n",
    "        j_coords = [float(city_j['lat']), float(city_j['lng'])]\n",
    "        distance_matrix[i,j] = dist(i_coords, j_coords)\n",
    "\n",
    "\n",
    "city_names = np.array(city_names)\n",
    "np.savetxt(\"../datasets/bc_distance_matrix.csv\", distance_matrix, delimiter=\",\")\n",
    "np.savetxt(\"../datasets/bc_city_name.csv\", city_names, delimiter=\",\", fmt=\"%s\")\n",
    "np.savetxt(\"../datasets/bc_city_data.csv\", select_cities, delimiter=\",\", fmt=\"%s\")\n"
   ]
  }
 ],
 "metadata": {
  "kernelspec": {
   "display_name": "Python 3",
   "language": "python",
   "name": "python3"
  },
  "language_info": {
   "codemirror_mode": {
    "name": "ipython",
    "version": 3
   },
   "file_extension": ".py",
   "mimetype": "text/x-python",
   "name": "python",
   "nbconvert_exporter": "python",
   "pygments_lexer": "ipython3",
   "version": "3.7.6"
  }
 },
 "nbformat": 4,
 "nbformat_minor": 4
}
