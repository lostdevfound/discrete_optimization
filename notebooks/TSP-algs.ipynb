{
 "cells": [
  {
   "cell_type": "code",
   "execution_count": 1,
   "metadata": {},
   "outputs": [],
   "source": [
    "from geopy import distance\n",
    "import pandas as pd\n",
    "import numpy as np\n",
    "import matplotlib.pyplot as plt\n",
    "import networkx as nx\n",
    "from math import sqrt\n",
    "import plotly.express as px\n",
    "import pandas as pd\n",
    "import plotly.graph_objects as go"
   ]
  },
  {
   "cell_type": "markdown",
   "metadata": {},
   "source": [
    "### Christofides algorithm"
   ]
  },
  {
   "cell_type": "code",
   "execution_count": 2,
   "metadata": {},
   "outputs": [],
   "source": [
    "def chriSerd(A):\n",
    "    \"\"\" Christofides–Serdyukov algorithm to compute approximate solution to a TSP problem\n",
    "        Input: Weighted adjacency matrix. \n",
    "        Output: List of vertices of an approximate optimal TSP tour,\n",
    "                min spanning tree, \n",
    "                perfect mathicng\"\"\"\n",
    "    Aoriginal = A.copy()\n",
    "    # init a graph with 'inverted weights'\n",
    "    A = 2*np.max(A)-np.matrix(A)\n",
    "    np.fill_diagonal(A,0)\n",
    "    G = nx.from_numpy_matrix(A)\n",
    "    # get minimum spanning tree\n",
    "    mst = nx.MultiGraph(nx.maximum_spanning_tree(G))\n",
    "    mstcopy = mst.copy()    \n",
    "    # get all the odd degree nodes in min span tree\n",
    "    odd_nodes = []\n",
    "    for v in mst.degree:\n",
    "        if v[1] % 2 == 1:\n",
    "            odd_nodes.append(v[0])\n",
    "\n",
    "    # get a subgraph from the odd nodes\n",
    "    subG = nx.subgraph(G, odd_nodes)\n",
    "    # get min weight matching. Since weights are inverted this is min_weight_matching\n",
    "    M = nx.algorithms.max_weight_matching(subG)\n",
    "    # add edges to a spaning tree\n",
    "    mathching_edges = []\n",
    "    for u,v in M:\n",
    "        mathching_edges.append((u,v,1))\n",
    "    mst.add_edges_from(mathching_edges)\n",
    "    # get eulerian circuit\n",
    "    euler_circ = list(nx.eulerian_circuit(mst))\n",
    "    opt_tour = []\n",
    "    opt_cost = np.Inf\n",
    "    \n",
    "    # do shortcutting in both directions of the Euler circuit\n",
    "    # this helps to find minimal short-cutting\n",
    "    for i in [0,1]:\n",
    "        if i==1: euler_circ.reverse()\n",
    "        visited = []\n",
    "        tour = []\n",
    "        for uv in euler_circ:\n",
    "            if uv[0] not in visited:\n",
    "                tour.append(uv[0])\n",
    "                visited.append(uv[0])\n",
    "        tour.append(visited[0])\n",
    "\n",
    "        # compute the cost \n",
    "        _, tour_matrix = buildTourGraph(tour)\n",
    "        tour_cost = np.sum(np.multiply(tour_matrix, Aoriginal))\n",
    "        if tour_cost <= opt_cost:\n",
    "            opt_cost = tour_cost\n",
    "            opt_tour = tour\n",
    "            \n",
    "    print('Christofides. ','cost: ',opt_cost, ', optimal tour:', opt_tour)\n",
    "    return opt_tour, mstcopy, M\n"
   ]
  },
  {
   "cell_type": "markdown",
   "metadata": {},
   "source": [
    "### Duoble spanning tree algorithm"
   ]
  },
  {
   "cell_type": "code",
   "execution_count": 3,
   "metadata": {},
   "outputs": [],
   "source": [
    "def doubleSpanTree(A):\n",
    "    \"\"\" Double Spaning Tree algorithm to compute approximate solution to a TSP problem\n",
    "    Input: Weighted adjacency matrix. \n",
    "    Output: List of vertices of an approximate optimal TSP tour \"\"\"\n",
    "    # init a graph with 'inverted weights'\n",
    "    G = nx.from_numpy_matrix(np.max(A)-np.matrix(A))\n",
    "    # get minimum spanning tree\n",
    "    mst = nx.MultiGraph(nx.maximum_spanning_tree(G))\n",
    "    mstcopy = mst.copy()\n",
    "\n",
    "    # add double edges\n",
    "    double_edges = []\n",
    "    for u,v,k in mst.edges:\n",
    "        double_edges.append((u,v,1))\n",
    "    mst.add_edges_from(double_edges)\n",
    "    # do Euler Circuit\n",
    "    euler_circ = list(nx.eulerian_circuit(mst))\n",
    "    euler_circ.reverse()\n",
    "    # do shortcutting\n",
    "    visited = [euler_circ[0][0]]\n",
    "    opt_tour = [euler_circ[0][0]]\n",
    "    for uv in euler_circ[1:]:\n",
    "        if uv[0] not in visited:\n",
    "            opt_tour.append(uv[0])\n",
    "            visited.append(uv[0])\n",
    "    opt_tour.append(visited[0])\n",
    "    print('Double Min Span Tree optimal tour:', opt_tour)\n",
    "    \n",
    "    return opt_tour, mstcopy"
   ]
  },
  {
   "cell_type": "markdown",
   "metadata": {},
   "source": [
    "### Some helper functions\n"
   ]
  },
  {
   "cell_type": "code",
   "execution_count": 4,
   "metadata": {},
   "outputs": [],
   "source": [
    "def buildTourGraph(opt_tour):\n",
    "    \"\"\" Build a graph from the provided list of nodes.\n",
    "        Input:\n",
    "            graph_size: size of a matrix for a graph\n",
    "            opt_tour: list of vertices on a tour\n",
    "        Output: A nx.Graph object and 0,1 adjacency matrix\n",
    "        \"\"\"\n",
    "    n = len(opt_tour)-1\n",
    "    opt_tour_matrix = np.zeros((n,n))\n",
    "\n",
    "    for i in range(0, len(opt_tour)-1):\n",
    "        u = opt_tour[i]\n",
    "        v = opt_tour[i+1]\n",
    "        opt_tour_matrix[u,v] = 1\n",
    "\n",
    "    opt_tour_G = nx.Graph(opt_tour_matrix)\n",
    "    return opt_tour_G, opt_tour_matrix"
   ]
  },
  {
   "cell_type": "markdown",
   "metadata": {},
   "source": [
    "### Load the dataset and find approx optimal tours using Christofides and NN algos."
   ]
  },
  {
   "cell_type": "code",
   "execution_count": 5,
   "metadata": {},
   "outputs": [
    {
     "name": "stdout",
     "output_type": "stream",
     "text": [
      "Christofides.  cost:  4709.576629488225 , optimal tour: [0, 4, 10, 3, 13, 22, 99, 49, 32, 86, 77, 57, 12, 91, 29, 44, 76, 39, 24, 55, 38, 2, 35, 9, 40, 52, 50, 21, 60, 95, 47, 97, 59, 37, 82, 30, 43, 42, 25, 80, 48, 61, 41, 70, 93, 78, 84, 98, 31, 45, 17, 58, 53, 11, 65, 36, 94, 75, 72, 20, 56, 51, 68, 88, 28, 5, 92, 46, 89, 85, 90, 64, 33, 81, 71, 69, 54, 62, 87, 63, 83, 79, 73, 74, 26, 96, 66, 67, 14, 23, 6, 8, 15, 16, 34, 19, 27, 7, 1, 18, 0]\n",
      "Double Min Span Tree optimal tour: [3, 18, 1, 19, 7, 27, 34, 16, 8, 15, 23, 6, 14, 67, 66, 96, 51, 26, 74, 73, 79, 83, 63, 87, 62, 54, 69, 33, 64, 90, 85, 71, 81, 68, 88, 28, 5, 92, 46, 56, 20, 72, 75, 94, 36, 11, 65, 53, 58, 17, 78, 84, 98, 31, 45, 93, 70, 41, 61, 48, 89, 13, 22, 86, 77, 57, 12, 95, 60, 29, 21, 50, 52, 40, 9, 55, 24, 39, 76, 44, 38, 2, 35, 91, 47, 97, 59, 37, 82, 30, 25, 80, 42, 43, 32, 49, 99, 0, 4, 10, 3]\n"
     ]
    }
   ],
   "source": [
    "# points = [[0.2,0], [0.8,0], [0,1], [1,1], [0.5,1.6]]\n",
    "# points = np.genfromtxt('../datasets/p01_xy.txt', delimiter=' ')\n",
    "points = np.genfromtxt('../datasets/bc100_xy.csv', delimiter=',')\n",
    "\n",
    "# compute the cost matrix\n",
    "n = len(points)\n",
    "A = np.zeros((n,n))\n",
    "for i in range(0, n):\n",
    "    for j in range(0, n):\n",
    "        a = np.matrix(points[i])\n",
    "        b = np.matrix(points[j])\n",
    "        A[i][j] = np.linalg.norm(a-b)\n",
    "\n",
    "\n",
    "# Get tours from christofides and dMST\n",
    "chris_tour, mst1, matching = chriSerd(A)\n",
    "dmst_tour, mst2 = doubleSpanTree(A)\n",
    "\n",
    "np.random.seed(7979)\n",
    "G = nx.from_numpy_matrix(np.matrix(A))\n",
    "G_pos = dict(zip(range(0,n),points))\n",
    "\n",
    "edgeLabels = {}\n",
    "for edge in G.edges.data():\n",
    "    uv = (edge[0], edge[1])\n",
    "    weight = edge[2]['weight']\n",
    "    edgeLabels[uv] = np.round(weight, 2)\n",
    "\n",
    "\n",
    "    \n",
    "# load NN and NI tours from csv\n",
    "nn_tour = np.genfromtxt('NN-and-NI/100city_neighbour.csv', delimiter=',', dtype=int)-1\n",
    "ni_tour = np.genfromtxt('NN-and-NI/100city_insertion.csv', delimiter=',',dtype=int)-1\n",
    "\n"
   ]
  },
  {
   "cell_type": "markdown",
   "metadata": {},
   "source": [
    "### 2-opt heuristic\n",
    "code credit to Fredge at Applications Engineer at Immense Simulations"
   ]
  },
  {
   "cell_type": "code",
   "execution_count": 6,
   "metadata": {},
   "outputs": [],
   "source": [
    "def cost_change(cost_mat, n1, n2, n3, n4):\n",
    "    return cost_mat[n1][n3] + cost_mat[n2][n4] - cost_mat[n1][n2] - cost_mat[n3][n4]\n",
    "\n",
    "\n",
    "def two_opt(route, cost_mat):\n",
    "    best = route\n",
    "    improved = True\n",
    "    while improved:\n",
    "        improved = False\n",
    "        for i in range(1, len(route) - 2):\n",
    "            for j in range(i + 1, len(route)):\n",
    "                if j - i == 1: continue\n",
    "                if cost_change(cost_mat, best[i - 1], best[i], best[j - 1], best[j]) < 0:\n",
    "                    best[i:j] = best[j - 1:i - 1:-1]\n",
    "                    improved = True\n",
    "        route = best\n",
    "    return best"
   ]
  },
  {
   "cell_type": "markdown",
   "metadata": {},
   "source": [
    "### christofides tour 2-opt pass"
   ]
  },
  {
   "cell_type": "code",
   "execution_count": 54,
   "metadata": {},
   "outputs": [
    {
     "name": "stdout",
     "output_type": "stream",
     "text": [
      "chris cost 4590.323467352025\n",
      "2-opt chris cost 4590.323467352025\n",
      "Chris original tour: [0, 4, 10, 15, 1, 18, 27, 7, 19, 34, 16, 8, 6, 23, 14, 67, 66, 96, 51, 26, 74, 73, 79, 83, 63, 87, 62, 54, 69, 71, 81, 33, 64, 90, 85, 89, 92, 5, 28, 68, 88, 46, 56, 20, 72, 75, 94, 36, 11, 65, 53, 58, 17, 45, 31, 98, 84, 78, 93, 70, 41, 48, 61, 80, 25, 43, 42, 30, 82, 37, 59, 97, 47, 12, 91, 44, 76, 39, 24, 55, 38, 2, 35, 9, 40, 52, 50, 21, 29, 60, 95, 57, 77, 86, 32, 49, 99, 22, 13, 3, 0]\n",
      "Christ 2-opt tour: [0, 4, 10, 15, 1, 18, 27, 7, 19, 34, 16, 8, 6, 23, 14, 67, 66, 96, 51, 26, 74, 73, 79, 83, 63, 87, 62, 54, 69, 71, 81, 33, 64, 90, 85, 89, 92, 5, 28, 68, 88, 46, 56, 20, 72, 75, 94, 36, 11, 65, 53, 58, 17, 45, 31, 98, 84, 78, 93, 70, 41, 48, 61, 80, 25, 43, 42, 30, 82, 37, 59, 97, 47, 12, 91, 44, 76, 39, 24, 55, 38, 2, 35, 9, 40, 52, 50, 21, 29, 60, 95, 57, 77, 86, 32, 49, 99, 22, 13, 3, 0]\n"
     ]
    }
   ],
   "source": [
    "# build a chris tour adj matrix\n",
    "chrisGraph, chris_tourMatrix = buildTourGraph(chris_tour)\n",
    "# compute the cost of the tour\n",
    "chrisCost  = np.sum(np.multiply(chris_tourMatrix, A))\n",
    "print('chris cost', chrisCost)\n",
    "\n",
    "# do 2-opt pass\n",
    "chris_two_opt_tour = two_opt(chris_tour, A)\n",
    "two_opt_chrisGraph, chris_two_opt_tourMatrix = buildTourGraph(chris_two_opt_tour)\n",
    "\n",
    "two_opt_chrisCost  = np.sum(np.multiply(chris_two_opt_tourMatrix, A))\n",
    "print('2-opt chris cost', chrisCost)\n",
    "np.array(chris_two_opt_tour)\n",
    "print('Chris original tour:', chris_tour)\n",
    "print('Christ 2-opt tour:', chris_two_opt_tour)"
   ]
  },
  {
   "cell_type": "markdown",
   "metadata": {},
   "source": [
    "### Create a matrix (dataframe) of weights of the 2-opt tour. From the matrix we can further extract the tour weight table by looking at the non-zero entries"
   ]
  },
  {
   "cell_type": "code",
   "execution_count": 69,
   "metadata": {},
   "outputs": [],
   "source": [
    "# load the names of cities\n",
    "city_names = pd.read_csv('../datasets/bc_city_name.csv', names=['city'])['city'].tolist()\n",
    "# create a table for the original christ tour\n",
    "chris_table = pd.DataFrame(np.multiply(chris_tourMatrix, A),\n",
    "                    columns=city_names,\n",
    "                    index=city_names)\n",
    "# create a table for the 2-opt christ tour\n",
    "chris_2_opt_table = pd.DataFrame(np.multiply(chris_two_opt_tourMatrix, A),\n",
    "    columns=city_names,\n",
    "    index=city_names)\n",
    "\n",
    "chris_2_opt_table.to_csv('../datasets/tour_tables/chris-2opt-and-original.csv')"
   ]
  },
  {
   "cell_type": "markdown",
   "metadata": {},
   "source": [
    "### NN tour 2-opt pass"
   ]
  },
  {
   "cell_type": "code",
   "execution_count": 55,
   "metadata": {},
   "outputs": [
    {
     "name": "stdout",
     "output_type": "stream",
     "text": [
      "NN cost 4901.185132591991\n",
      "2-opt NN cost 4546.723317341365\n",
      "NN original tour [43 25 80 61 48 41 70 93 78 84 98 31 45 17 58 53 11 65 68 88 28  5 92 46\n",
      " 56 20 89 72 75 94 36 85 90 81 71 33 64 69 54 62 87 63 83 79 73 74 26 51\n",
      " 96 66 67 14 23  6  8 15 16 34 19  7 27  1 18  3  0  4 10 50 52 40  9 35\n",
      "  2 38 55 24 39 76 44 21 29 91 60 95 12 47 97 59 37 82 30 42 57 77 86 22\n",
      " 13 32 49 99 43]\n",
      "NN 2-opt tour: [43 25 80 61 48 41 70 93 78 84 98 31 45 17 58 53 11 65 68 88 28  5 92 46\n",
      " 56 20 89 72 75 94 36 85 90 81 71 33 64 69 54 62 87 63 83 79 73 74 26 51\n",
      " 96 66 67 14 23  6  8 15 16 34 19  7 27  1 18  3  0  4 10 50 52 40  9 35\n",
      "  2 38 55 24 39 76 44 21 29 91 60 95 12 47 97 59 37 82 30 42 57 77 86 22\n",
      " 13 32 49 99 43]\n"
     ]
    }
   ],
   "source": [
    "# load NN tour\n",
    "nn_tour = np.genfromtxt('NN-and-NI/100city_neighbour.csv', delimiter=',', dtype=int)-1\n",
    "\n",
    "# build a chris tour adj matrix\n",
    "nn_graph, nn_tourMatrix = buildTourGraph(nn_tour)\n",
    "# compute the cost of the tour\n",
    "nnCost  = np.sum(np.multiply(nn_tourMatrix, A))\n",
    "print('NN cost', nnCost)\n",
    "\n",
    "# do 2-opt pass\n",
    "nn_two_opt_tour = two_opt(nn_tour, A)\n",
    "two_opt_nn_Graph, nn_two_opt_tourMatrix = buildTourGraph(nn_two_opt_tour)\n",
    "\n",
    "two_opt_nn_Cost  = np.sum(np.multiply(nn_two_opt_tourMatrix, A))\n",
    "print('2-opt NN cost', two_opt_nn_Cost)\n",
    "print('NN original tour', nn_tour)\n",
    "print('NN 2-opt tour:', nn_two_opt_tour)"
   ]
  },
  {
   "cell_type": "markdown",
   "metadata": {},
   "source": [
    "### Create a matrix (dataframe) of weights of the 2-opt tour. From the matrix we can further extract the tour weight table by looking at the non-zero entries"
   ]
  },
  {
   "cell_type": "code",
   "execution_count": 67,
   "metadata": {},
   "outputs": [],
   "source": [
    "# original NN weight table\n",
    "nn_table = pd.DataFrame(np.multiply(nn_tourMatrix, A),\n",
    "                            columns=city_names,\n",
    "                            index=city_names)\n",
    "# 2-opt table\n",
    "nn_2_opt_table = pd.DataFrame(np.multiply(nn_two_opt_tourMatrix, A),\n",
    "                              columns=city_names,\n",
    "                              index=city_names)\n",
    "# write table\n",
    "nn_table.to_csv('../datasets/tour_tables/NN-table')\n",
    "nn_2_opt_table.to_csv('../datasets/tour_tables/NN-2opt-table')"
   ]
  },
  {
   "cell_type": "code",
   "execution_count": null,
   "metadata": {},
   "outputs": [],
   "source": [
    "\n",
    "# build the matrix for the optimal tour graph\n",
    "# opt_tour_G1, opt_tour_matrix1 = buildTourGraph(opt_tour1)\n",
    "# opt_tour_G2, opt_tour_matrix2 = buildTourGraph(opt_tour2)\n",
    "\n",
    "opt_tour_G1, opt_tour_matrix1 = buildTourGraph(tour_seq1)\n",
    "opt_tour_G2, opt_tour_matrix2 = buildTourGraph(tour_seq2)\n",
    "\n",
    "fig, axs = plt.subplots(1, 2, figsize=(20, 10), sharey=True)\n",
    "axs[0].set_title('Spanning Tree (red), Matching (green)', fontsize=32)\n",
    "axs[1].set_title('Double Spanning Tree', fontsize=32)\n",
    "axs[0].axis('off')\n",
    "axs[1].axis('off')\n",
    "nodeSize=500\n",
    "# Subplot 1 draw G and edge weights\n",
    "nx.draw_networkx_nodes(G, pos=G_pos,\n",
    "                        ax=axs[0],\n",
    "                        font_size=30,\n",
    "                        node_size=nodeSize,\n",
    "                        with_labels=True,\n",
    "                        connectionstyle='arc3, rad = 0.3')\n",
    "# nx.draw_networkx_edge_labels(G, pos=G_pos, edge_labels=edgeLabels,ax=axs[0], font_size=25)\n",
    "\n",
    "# draw Tour Chris\n",
    "# nx.draw_networkx_edges(mst1,\n",
    "#                 pos=G_pos, \n",
    "#                 connectionstyle='arc3, rad = 0.3',\n",
    "#                 edgelist=mst1.edges,\n",
    "#                 edge_color='r', \n",
    "#                 width=4, \n",
    "#                 ax=axs[0], \n",
    "#                 with_labels=False)\n",
    "\n",
    "# nx.draw_networkx_edges(nx.DiGraph(G),\n",
    "#                        pos=G_pos, \n",
    "#                        connectionstyle='arc3, rad = 0.3',\n",
    "#                        edgelist=matching, \n",
    "#                        edge_color='g', \n",
    "#                        width=4, ax=axs[0])\n",
    "\n",
    "nx.draw_networkx_edges(opt_tour_G1,\n",
    "                       pos=G_pos, \n",
    "                       connectionstyle='arc3, rad = 0.1',\n",
    "                       edge_color='g', \n",
    "                       width=4, ax=axs[0])\n",
    "\n",
    "# Subplot 2 draw G and edge weights\n",
    "nx.draw_networkx_nodes(G, pos=G_pos, ax=axs[1], font_size=30, node_size=nodeSize)\n",
    "\n",
    "# nx.draw_networkx_edge_labels(G, pos=G_pos, edge_labels=edgeLabels,ax=axs[1], font_size=25)\n",
    "\n",
    "# draw Tour Double MSP\n",
    "nx.draw_networkx_edges(opt_tour_G2, \n",
    "                       pos=G_pos,\n",
    "                       edge_color='g',\n",
    "                       width=4, ax=axs[1],\n",
    "                       with_labels=False)\n",
    "\n",
    "# nx.draw_networkx_edges(nx.DiGraph(mst2), \n",
    "#                        pos=G_pos,\n",
    "#                        edge_color='r',\n",
    "#                        width=4,\n",
    "#                        ax=axs[1],\n",
    "#                        connectionstyle='arc3, rad = 0.1')\n",
    "fig.tight_layout()\n",
    "print(mst2.edges)\n",
    "plt.show()\n",
    "\n",
    "cost1 = np.sum(np.multiply(opt_tour_matrix1, A))\n",
    "cost2 = np.sum(np.multiply(opt_tour_matrix2, A))\n",
    "print(cost1)\n",
    "print(cost2)\n",
    "true_tour = np.array([1,13,2,15,9,5,7,3,12,14,10,8,6,4,11,1])-1\n",
    "print(true_tour)\n",
    "# true_tour_G, true_tour_matrix = buildTourGraph(n, true_tour)\n",
    "# min_cost = np.sum(np.multiply(true_tour_matrix, A))\n",
    "# print(min_cost)"
   ]
  },
  {
   "cell_type": "code",
   "execution_count": 15,
   "metadata": {},
   "outputs": [
    {
     "name": "stdout",
     "output_type": "stream",
     "text": [
      "Christofides.  cost:  4679.449032682213 , optimal tour: [4, 10, 3, 18, 1, 19, 7, 27, 34, 16, 8, 15, 23, 6, 14, 67, 66, 96, 51, 26, 74, 73, 79, 83, 63, 87, 62, 54, 69, 33, 71, 81, 64, 90, 85, 36, 94, 75, 72, 20, 56, 89, 46, 92, 5, 28, 88, 68, 65, 11, 53, 58, 17, 78, 45, 31, 98, 84, 93, 70, 41, 61, 48, 80, 25, 30, 42, 43, 82, 37, 59, 97, 47, 12, 95, 60, 29, 21, 50, 52, 40, 9, 55, 35, 2, 38, 24, 39, 76, 44, 91, 57, 77, 86, 22, 32, 49, 99, 13, 0, 4]\n",
      "Double Min Span Tree optimal tour: [4, 10, 0, 3, 18, 1, 19, 7, 27, 34, 16, 8, 15, 23, 6, 14, 67, 66, 96, 51, 26, 74, 73, 79, 83, 63, 87, 62, 54, 69, 33, 64, 90, 85, 71, 81, 68, 88, 28, 5, 92, 46, 56, 20, 72, 75, 94, 36, 89, 65, 11, 53, 58, 17, 78, 84, 98, 31, 45, 93, 70, 41, 61, 48, 13, 22, 86, 77, 57, 12, 95, 60, 29, 21, 50, 52, 40, 9, 55, 24, 39, 76, 44, 38, 2, 35, 91, 47, 97, 59, 37, 82, 30, 25, 80, 42, 43, 32, 49, 99, 4]\n",
      "4679.449032682213 5661.319907113176\n"
     ]
    }
   ],
   "source": [
    "from numpy import genfromtxt\n",
    "A = genfromtxt('../datasets/bc_distance_matrix.csv', delimiter=',')\n",
    "opt_tour1, mst1, matching = chriSerd(A)\n",
    "opt_tour2, mst2 = doubleSpanTree(A)\n",
    "# build the matrix for the optimal tour graph\n",
    "n = np.shape(A)[0]\n",
    "opt_tour_G1, opt_tour_matrix1 = buildTourGraph(opt_tour1)\n",
    "opt_tour_G2, opt_tour_matrix2 = buildTourGraph(opt_tour2)\n",
    "cost1 = np.sum(np.multiply(opt_tour_matrix1, A))\n",
    "cost2 = np.sum(np.multiply(opt_tour_matrix2, A))\n",
    "print(cost1, cost2)\n",
    "\n",
    "df = pd.read_csv('../datasets/bc_city_data.csv',delimiter=',',sep='\\n' )\n",
    "\n",
    "CS_title = 'Christofides-Serdyukov approx optimal route'\n",
    "DMST_tile = 'Double MST optimal route'\n",
    "NN_title = \"Nearest Neighbor optimal route\"\n",
    "NI_title = \"Nearest Insertion optimal route\"\n",
    "\n",
    "NN_tour = np.genfromtxt('NN-and-NI/100city_neighbour.csv', delimiter=',', dtype=int)-1\n",
    "NI_tour = np.genfromtxt('NN-and-NI/100city_insertion.csv', delimiter=',', dtype=int)-1\n",
    "\n",
    "route_lats_CS = df.iloc[opt_tour1]['lat']\n",
    "route_lng_CS = df.iloc[opt_tour1]['lng']\n",
    "\n",
    "route_lats_dmst = df.iloc[opt_tour2]['lat']\n",
    "route_lng_dmst = df.iloc[opt_tour2]['lng']\n",
    "\n",
    "route_lats_NI = df.iloc[NI_tour]['lat']\n",
    "route_lng_NI = df.iloc[NI_tour]['lng']\n",
    "\n",
    "route_lats_NN = df.iloc[NN_tour]['lat']\n",
    "route_lng_NN = df.iloc[NN_tour]['lng']\n"
   ]
  },
  {
   "cell_type": "code",
   "execution_count": 21,
   "metadata": {},
   "outputs": [
    {
     "data": {
      "application/vnd.plotly.v1+json": {
       "config": {
        "plotlyServerURL": "https://plot.ly"
       },
       "data": [
        {
         "hoverlabel": {
          "namelength": 0
         },
         "hovertemplate": "lat=%{lat}<br>lng=%{lon}",
         "lat": [
          49.25,
          49.19,
          48.4283,
          49.2667,
          49.1667,
          49.8881,
          49.05,
          49.2839,
          49.1044,
          48.483999999999995,
          49.0847,
          50.6761,
          49.1642,
          49.3641,
          49.1577,
          49.025,
          49.2167,
          53.9169,
          49.2069,
          49.2625,
          50.266999999999996,
          48.7787,
          49.3667,
          49.1337,
          48.4506,
          50.0244,
          49.4911,
          49.2831,
          49.8625,
          48.8236,
          49.6878,
          56.2465,
          49.7017,
          49.5097,
          49.2333,
          48.4264,
          50.7022,
          49.2339,
          48.4306,
          48.4236,
          48.5142,
          54.5164,
          49.6733,
          49.8353,
          48.3761,
          55.7606,
          50.0833,
          49.315,
          54.3122,
          50.1208,
          48.6506,
          49.6006,
          48.6142,
          52.1294,
          49.5,
          48.4517,
          50.22,
          49.4742,
          52.9784,
          49.35,
          48.9975,
          54,
          49.3256,
          49.095,
          49.6697,
          50.1128,
          49.3858,
          49.2833,
          49.7736,
          49.09,
          54.7819,
          49.5042,
          50.4462,
          49.0325,
          49.1844,
          50.4483,
          48.3819,
          49.4028,
          54.0143,
          49.0333,
          50.7225,
          49.7331,
          49.6206,
          49.0786,
          55.3381,
          51.3019,
          49.3833,
          49.1161,
          49.8423,
          50.2494,
          50.5083,
          48.8258,
          49.9646,
          54.3975,
          50.5508,
          49.0853,
          49.4589,
          49.2874,
          55.6972,
          50.3203
         ],
         "legendgroup": "",
         "lon": [
          -123.1,
          -122.8489,
          -123.3647,
          -122.9667,
          -123.1333,
          -119.4956,
          -122.3167,
          -122.7919,
          -122.5827,
          -123.381,
          -123.0586,
          -120.3408,
          -123.9364,
          -123.0066,
          -121.9509,
          -122.8028,
          -122.6,
          -122.7494,
          -122.9111,
          -122.7811,
          -119.272,
          -123.7079,
          -123.1667,
          -122.3112,
          -123.5058,
          -125.2475,
          -119.5886,
          -122.8317,
          -119.5833,
          -123.7192,
          -124.9944,
          -120.8476,
          -123.1589,
          -115.7667,
          -122.6833,
          -123.3228,
          -119.2722,
          -124.805,
          -123.4147,
          -123.4958,
          -123.3839,
          -128.5997,
          -124.9022,
          -124.5247,
          -123.7378,
          -120.2356,
          -119.4142,
          -124.31200000000001,
          -130.3271,
          -122.9544,
          -123.3986,
          -119.6778,
          -123.42,
          -122.1383,
          -117.2833,
          -123.4339,
          -119.2481,
          -123.7542,
          -122.4927,
          -124.4333,
          -123.8203,
          -128.7,
          -117.6661,
          -117.71,
          -115.9775,
          -120.7897,
          -121.4419,
          -121.75,
          -119.7369,
          -116.51,
          -127.1681,
          -115.0628,
          -119.2121,
          -119.4661,
          -119.55,
          -119.1961,
          -123.5378,
          -123.5036,
          -124.0089,
          -118.44,
          -127.4928,
          -114.8853,
          -125.0261,
          -117.7992,
          -123.0944,
          -116.9667,
          -123.3833,
          -117.5414,
          -119.6743,
          -118.9656,
          -116.0303,
          -124.0542,
          -119.3178,
          -126.6419,
          -119.1397,
          -123.8259,
          -120.506,
          -124.3433,
          -121.6333,
          -122.8053
         ],
         "marker": {
          "color": "#636efa"
         },
         "mode": "markers",
         "name": "",
         "showlegend": false,
         "subplot": "mapbox",
         "type": "scattermapbox"
        },
        {
         "lat": [
          49.1667,
          49.0847,
          49.25,
          49.2667,
          49.2069,
          49.19,
          49.2625,
          49.2839,
          49.2831,
          49.2333,
          49.2167,
          49.1044,
          49.025,
          49.1337,
          49.05,
          49.1577,
          49.2833,
          49.3858,
          49.4589,
          49.6006,
          49.4911,
          49.1844,
          49.0325,
          49.0333,
          49.0786,
          49.095,
          49.1161,
          49.3256,
          49.5,
          49.09,
          49.5097,
          49.6697,
          50.5083,
          51.3019,
          49.5042,
          49.7331,
          49.7736,
          49.8423,
          49.8625,
          49.8881,
          49.9646,
          50.0833,
          50.22,
          50.266999999999996,
          50.4462,
          50.4483,
          50.5508,
          50.7022,
          50.2494,
          50.1128,
          50.6761,
          52.1294,
          52.9784,
          53.9169,
          54.0143,
          55.3381,
          55.6972,
          56.2465,
          55.7606,
          54.3975,
          54.7819,
          54.5164,
          54,
          54.3122,
          49.3641,
          49.3667,
          49.3833,
          49.4028,
          49.4742,
          49.1642,
          49.0853,
          48.9975,
          48.8236,
          48.7787,
          48.6506,
          48.6142,
          48.5142,
          48.483999999999995,
          48.4517,
          48.4506,
          48.4236,
          48.3819,
          48.3761,
          48.4306,
          48.4283,
          48.4264,
          48.8258,
          49.315,
          49.2874,
          49.35,
          49.2339,
          49.6206,
          49.6878,
          50.0244,
          50.7225,
          49.6733,
          49.8353,
          49.7017,
          50.1208,
          50.3203,
          49.1667
         ],
         "lon": [
          -123.1333,
          -123.0586,
          -123.1,
          -122.9667,
          -122.9111,
          -122.8489,
          -122.7811,
          -122.7919,
          -122.8317,
          -122.6833,
          -122.6,
          -122.5827,
          -122.8028,
          -122.3112,
          -122.3167,
          -121.9509,
          -121.75,
          -121.4419,
          -120.506,
          -119.6778,
          -119.5886,
          -119.55,
          -119.4661,
          -118.44,
          -117.7992,
          -117.71,
          -117.5414,
          -117.6661,
          -117.2833,
          -116.51,
          -115.7667,
          -115.9775,
          -116.0303,
          -116.9667,
          -115.0628,
          -114.8853,
          -119.7369,
          -119.6743,
          -119.5833,
          -119.4956,
          -119.3178,
          -119.4142,
          -119.2481,
          -119.272,
          -119.2121,
          -119.1961,
          -119.1397,
          -119.2722,
          -118.9656,
          -120.7897,
          -120.3408,
          -122.1383,
          -122.4927,
          -122.7494,
          -124.0089,
          -123.0944,
          -121.6333,
          -120.8476,
          -120.2356,
          -126.6419,
          -127.1681,
          -128.5997,
          -128.7,
          -130.3271,
          -123.0066,
          -123.1667,
          -123.3833,
          -123.5036,
          -123.7542,
          -123.9364,
          -123.8259,
          -123.8203,
          -123.7192,
          -123.7079,
          -123.3986,
          -123.42,
          -123.3839,
          -123.381,
          -123.4339,
          -123.5058,
          -123.4958,
          -123.5378,
          -123.7378,
          -123.4147,
          -123.3647,
          -123.3228,
          -124.0542,
          -124.31200000000001,
          -124.3433,
          -124.4333,
          -124.805,
          -125.0261,
          -124.9944,
          -125.2475,
          -127.4928,
          -124.9022,
          -124.5247,
          -123.1589,
          -122.9544,
          -122.8053,
          -123.1333
         ],
         "marker": {
          "size": 10
         },
         "mode": "markers+lines",
         "name": "Double MST optimal route",
         "type": "scattermapbox"
        }
       ],
       "layout": {
        "autosize": false,
        "height": 1080,
        "hovermode": "closest",
        "legend": {
         "tracegroupgap": 0
        },
        "mapbox": {
         "accesstoken": "pk.eyJ1IjoibW9lNTIwIiwiYSI6ImNrNjZ6ZW9obTE4MWwzbGx3em5ja3dyZzgifQ.se2TJofRn8GzoSrNt9O5WA\n\n\n",
         "bearing": 0,
         "center": {
          "lat": 52.5,
          "lon": -122.8489
         },
         "domain": {
          "x": [
           0,
           1
          ],
          "y": [
           0,
           1
          ]
         },
         "pitch": 0,
         "zoom": 5.4
        },
        "margin": {
         "t": 60
        },
        "template": {
         "data": {
          "bar": [
           {
            "error_x": {
             "color": "#2a3f5f"
            },
            "error_y": {
             "color": "#2a3f5f"
            },
            "marker": {
             "line": {
              "color": "#E5ECF6",
              "width": 0.5
             }
            },
            "type": "bar"
           }
          ],
          "barpolar": [
           {
            "marker": {
             "line": {
              "color": "#E5ECF6",
              "width": 0.5
             }
            },
            "type": "barpolar"
           }
          ],
          "carpet": [
           {
            "aaxis": {
             "endlinecolor": "#2a3f5f",
             "gridcolor": "white",
             "linecolor": "white",
             "minorgridcolor": "white",
             "startlinecolor": "#2a3f5f"
            },
            "baxis": {
             "endlinecolor": "#2a3f5f",
             "gridcolor": "white",
             "linecolor": "white",
             "minorgridcolor": "white",
             "startlinecolor": "#2a3f5f"
            },
            "type": "carpet"
           }
          ],
          "choropleth": [
           {
            "colorbar": {
             "outlinewidth": 0,
             "ticks": ""
            },
            "type": "choropleth"
           }
          ],
          "contour": [
           {
            "colorbar": {
             "outlinewidth": 0,
             "ticks": ""
            },
            "colorscale": [
             [
              0,
              "#0d0887"
             ],
             [
              0.1111111111111111,
              "#46039f"
             ],
             [
              0.2222222222222222,
              "#7201a8"
             ],
             [
              0.3333333333333333,
              "#9c179e"
             ],
             [
              0.4444444444444444,
              "#bd3786"
             ],
             [
              0.5555555555555556,
              "#d8576b"
             ],
             [
              0.6666666666666666,
              "#ed7953"
             ],
             [
              0.7777777777777778,
              "#fb9f3a"
             ],
             [
              0.8888888888888888,
              "#fdca26"
             ],
             [
              1,
              "#f0f921"
             ]
            ],
            "type": "contour"
           }
          ],
          "contourcarpet": [
           {
            "colorbar": {
             "outlinewidth": 0,
             "ticks": ""
            },
            "type": "contourcarpet"
           }
          ],
          "heatmap": [
           {
            "colorbar": {
             "outlinewidth": 0,
             "ticks": ""
            },
            "colorscale": [
             [
              0,
              "#0d0887"
             ],
             [
              0.1111111111111111,
              "#46039f"
             ],
             [
              0.2222222222222222,
              "#7201a8"
             ],
             [
              0.3333333333333333,
              "#9c179e"
             ],
             [
              0.4444444444444444,
              "#bd3786"
             ],
             [
              0.5555555555555556,
              "#d8576b"
             ],
             [
              0.6666666666666666,
              "#ed7953"
             ],
             [
              0.7777777777777778,
              "#fb9f3a"
             ],
             [
              0.8888888888888888,
              "#fdca26"
             ],
             [
              1,
              "#f0f921"
             ]
            ],
            "type": "heatmap"
           }
          ],
          "heatmapgl": [
           {
            "colorbar": {
             "outlinewidth": 0,
             "ticks": ""
            },
            "colorscale": [
             [
              0,
              "#0d0887"
             ],
             [
              0.1111111111111111,
              "#46039f"
             ],
             [
              0.2222222222222222,
              "#7201a8"
             ],
             [
              0.3333333333333333,
              "#9c179e"
             ],
             [
              0.4444444444444444,
              "#bd3786"
             ],
             [
              0.5555555555555556,
              "#d8576b"
             ],
             [
              0.6666666666666666,
              "#ed7953"
             ],
             [
              0.7777777777777778,
              "#fb9f3a"
             ],
             [
              0.8888888888888888,
              "#fdca26"
             ],
             [
              1,
              "#f0f921"
             ]
            ],
            "type": "heatmapgl"
           }
          ],
          "histogram": [
           {
            "marker": {
             "colorbar": {
              "outlinewidth": 0,
              "ticks": ""
             }
            },
            "type": "histogram"
           }
          ],
          "histogram2d": [
           {
            "colorbar": {
             "outlinewidth": 0,
             "ticks": ""
            },
            "colorscale": [
             [
              0,
              "#0d0887"
             ],
             [
              0.1111111111111111,
              "#46039f"
             ],
             [
              0.2222222222222222,
              "#7201a8"
             ],
             [
              0.3333333333333333,
              "#9c179e"
             ],
             [
              0.4444444444444444,
              "#bd3786"
             ],
             [
              0.5555555555555556,
              "#d8576b"
             ],
             [
              0.6666666666666666,
              "#ed7953"
             ],
             [
              0.7777777777777778,
              "#fb9f3a"
             ],
             [
              0.8888888888888888,
              "#fdca26"
             ],
             [
              1,
              "#f0f921"
             ]
            ],
            "type": "histogram2d"
           }
          ],
          "histogram2dcontour": [
           {
            "colorbar": {
             "outlinewidth": 0,
             "ticks": ""
            },
            "colorscale": [
             [
              0,
              "#0d0887"
             ],
             [
              0.1111111111111111,
              "#46039f"
             ],
             [
              0.2222222222222222,
              "#7201a8"
             ],
             [
              0.3333333333333333,
              "#9c179e"
             ],
             [
              0.4444444444444444,
              "#bd3786"
             ],
             [
              0.5555555555555556,
              "#d8576b"
             ],
             [
              0.6666666666666666,
              "#ed7953"
             ],
             [
              0.7777777777777778,
              "#fb9f3a"
             ],
             [
              0.8888888888888888,
              "#fdca26"
             ],
             [
              1,
              "#f0f921"
             ]
            ],
            "type": "histogram2dcontour"
           }
          ],
          "mesh3d": [
           {
            "colorbar": {
             "outlinewidth": 0,
             "ticks": ""
            },
            "type": "mesh3d"
           }
          ],
          "parcoords": [
           {
            "line": {
             "colorbar": {
              "outlinewidth": 0,
              "ticks": ""
             }
            },
            "type": "parcoords"
           }
          ],
          "pie": [
           {
            "automargin": true,
            "type": "pie"
           }
          ],
          "scatter": [
           {
            "marker": {
             "colorbar": {
              "outlinewidth": 0,
              "ticks": ""
             }
            },
            "type": "scatter"
           }
          ],
          "scatter3d": [
           {
            "line": {
             "colorbar": {
              "outlinewidth": 0,
              "ticks": ""
             }
            },
            "marker": {
             "colorbar": {
              "outlinewidth": 0,
              "ticks": ""
             }
            },
            "type": "scatter3d"
           }
          ],
          "scattercarpet": [
           {
            "marker": {
             "colorbar": {
              "outlinewidth": 0,
              "ticks": ""
             }
            },
            "type": "scattercarpet"
           }
          ],
          "scattergeo": [
           {
            "marker": {
             "colorbar": {
              "outlinewidth": 0,
              "ticks": ""
             }
            },
            "type": "scattergeo"
           }
          ],
          "scattergl": [
           {
            "marker": {
             "colorbar": {
              "outlinewidth": 0,
              "ticks": ""
             }
            },
            "type": "scattergl"
           }
          ],
          "scattermapbox": [
           {
            "marker": {
             "colorbar": {
              "outlinewidth": 0,
              "ticks": ""
             }
            },
            "type": "scattermapbox"
           }
          ],
          "scatterpolar": [
           {
            "marker": {
             "colorbar": {
              "outlinewidth": 0,
              "ticks": ""
             }
            },
            "type": "scatterpolar"
           }
          ],
          "scatterpolargl": [
           {
            "marker": {
             "colorbar": {
              "outlinewidth": 0,
              "ticks": ""
             }
            },
            "type": "scatterpolargl"
           }
          ],
          "scatterternary": [
           {
            "marker": {
             "colorbar": {
              "outlinewidth": 0,
              "ticks": ""
             }
            },
            "type": "scatterternary"
           }
          ],
          "surface": [
           {
            "colorbar": {
             "outlinewidth": 0,
             "ticks": ""
            },
            "colorscale": [
             [
              0,
              "#0d0887"
             ],
             [
              0.1111111111111111,
              "#46039f"
             ],
             [
              0.2222222222222222,
              "#7201a8"
             ],
             [
              0.3333333333333333,
              "#9c179e"
             ],
             [
              0.4444444444444444,
              "#bd3786"
             ],
             [
              0.5555555555555556,
              "#d8576b"
             ],
             [
              0.6666666666666666,
              "#ed7953"
             ],
             [
              0.7777777777777778,
              "#fb9f3a"
             ],
             [
              0.8888888888888888,
              "#fdca26"
             ],
             [
              1,
              "#f0f921"
             ]
            ],
            "type": "surface"
           }
          ],
          "table": [
           {
            "cells": {
             "fill": {
              "color": "#EBF0F8"
             },
             "line": {
              "color": "white"
             }
            },
            "header": {
             "fill": {
              "color": "#C8D4E3"
             },
             "line": {
              "color": "white"
             }
            },
            "type": "table"
           }
          ]
         },
         "layout": {
          "annotationdefaults": {
           "arrowcolor": "#2a3f5f",
           "arrowhead": 0,
           "arrowwidth": 1
          },
          "coloraxis": {
           "colorbar": {
            "outlinewidth": 0,
            "ticks": ""
           }
          },
          "colorscale": {
           "diverging": [
            [
             0,
             "#8e0152"
            ],
            [
             0.1,
             "#c51b7d"
            ],
            [
             0.2,
             "#de77ae"
            ],
            [
             0.3,
             "#f1b6da"
            ],
            [
             0.4,
             "#fde0ef"
            ],
            [
             0.5,
             "#f7f7f7"
            ],
            [
             0.6,
             "#e6f5d0"
            ],
            [
             0.7,
             "#b8e186"
            ],
            [
             0.8,
             "#7fbc41"
            ],
            [
             0.9,
             "#4d9221"
            ],
            [
             1,
             "#276419"
            ]
           ],
           "sequential": [
            [
             0,
             "#0d0887"
            ],
            [
             0.1111111111111111,
             "#46039f"
            ],
            [
             0.2222222222222222,
             "#7201a8"
            ],
            [
             0.3333333333333333,
             "#9c179e"
            ],
            [
             0.4444444444444444,
             "#bd3786"
            ],
            [
             0.5555555555555556,
             "#d8576b"
            ],
            [
             0.6666666666666666,
             "#ed7953"
            ],
            [
             0.7777777777777778,
             "#fb9f3a"
            ],
            [
             0.8888888888888888,
             "#fdca26"
            ],
            [
             1,
             "#f0f921"
            ]
           ],
           "sequentialminus": [
            [
             0,
             "#0d0887"
            ],
            [
             0.1111111111111111,
             "#46039f"
            ],
            [
             0.2222222222222222,
             "#7201a8"
            ],
            [
             0.3333333333333333,
             "#9c179e"
            ],
            [
             0.4444444444444444,
             "#bd3786"
            ],
            [
             0.5555555555555556,
             "#d8576b"
            ],
            [
             0.6666666666666666,
             "#ed7953"
            ],
            [
             0.7777777777777778,
             "#fb9f3a"
            ],
            [
             0.8888888888888888,
             "#fdca26"
            ],
            [
             1,
             "#f0f921"
            ]
           ]
          },
          "colorway": [
           "#636efa",
           "#EF553B",
           "#00cc96",
           "#ab63fa",
           "#FFA15A",
           "#19d3f3",
           "#FF6692",
           "#B6E880",
           "#FF97FF",
           "#FECB52"
          ],
          "font": {
           "color": "#2a3f5f"
          },
          "geo": {
           "bgcolor": "white",
           "lakecolor": "white",
           "landcolor": "#E5ECF6",
           "showlakes": true,
           "showland": true,
           "subunitcolor": "white"
          },
          "hoverlabel": {
           "align": "left"
          },
          "hovermode": "closest",
          "mapbox": {
           "style": "light"
          },
          "paper_bgcolor": "white",
          "plot_bgcolor": "#E5ECF6",
          "polar": {
           "angularaxis": {
            "gridcolor": "white",
            "linecolor": "white",
            "ticks": ""
           },
           "bgcolor": "#E5ECF6",
           "radialaxis": {
            "gridcolor": "white",
            "linecolor": "white",
            "ticks": ""
           }
          },
          "scene": {
           "xaxis": {
            "backgroundcolor": "#E5ECF6",
            "gridcolor": "white",
            "gridwidth": 2,
            "linecolor": "white",
            "showbackground": true,
            "ticks": "",
            "zerolinecolor": "white"
           },
           "yaxis": {
            "backgroundcolor": "#E5ECF6",
            "gridcolor": "white",
            "gridwidth": 2,
            "linecolor": "white",
            "showbackground": true,
            "ticks": "",
            "zerolinecolor": "white"
           },
           "zaxis": {
            "backgroundcolor": "#E5ECF6",
            "gridcolor": "white",
            "gridwidth": 2,
            "linecolor": "white",
            "showbackground": true,
            "ticks": "",
            "zerolinecolor": "white"
           }
          },
          "shapedefaults": {
           "line": {
            "color": "#2a3f5f"
           }
          },
          "ternary": {
           "aaxis": {
            "gridcolor": "white",
            "linecolor": "white",
            "ticks": ""
           },
           "baxis": {
            "gridcolor": "white",
            "linecolor": "white",
            "ticks": ""
           },
           "bgcolor": "#E5ECF6",
           "caxis": {
            "gridcolor": "white",
            "linecolor": "white",
            "ticks": ""
           }
          },
          "title": {
           "x": 0.05
          },
          "xaxis": {
           "automargin": true,
           "gridcolor": "white",
           "linecolor": "white",
           "ticks": "",
           "title": {
            "standoff": 15
           },
           "zerolinecolor": "white",
           "zerolinewidth": 2
          },
          "yaxis": {
           "automargin": true,
           "gridcolor": "white",
           "linecolor": "white",
           "ticks": "",
           "title": {
            "standoff": 15
           },
           "zerolinecolor": "white",
           "zerolinewidth": 2
          }
         }
        },
        "width": 1920
       }
      },
      "text/html": [
       "<div>\n",
       "        \n",
       "        \n",
       "            <div id=\"3c392c17-822b-489c-bd6f-57725ef82802\" class=\"plotly-graph-div\" style=\"height:1080px; width:1920px;\"></div>\n",
       "            <script type=\"text/javascript\">\n",
       "                require([\"plotly\"], function(Plotly) {\n",
       "                    window.PLOTLYENV=window.PLOTLYENV || {};\n",
       "                    \n",
       "                if (document.getElementById(\"3c392c17-822b-489c-bd6f-57725ef82802\")) {\n",
       "                    Plotly.newPlot(\n",
       "                        '3c392c17-822b-489c-bd6f-57725ef82802',\n",
       "                        [{\"hoverlabel\": {\"namelength\": 0}, \"hovertemplate\": \"lat=%{lat}<br>lng=%{lon}\", \"lat\": [49.25, 49.19, 48.4283, 49.2667, 49.1667, 49.8881, 49.05, 49.2839, 49.1044, 48.483999999999995, 49.0847, 50.6761, 49.1642, 49.3641, 49.1577, 49.025, 49.2167, 53.9169, 49.2069, 49.2625, 50.266999999999996, 48.7787, 49.3667, 49.1337, 48.4506, 50.0244, 49.4911, 49.2831, 49.8625, 48.8236, 49.6878, 56.2465, 49.7017, 49.5097, 49.2333, 48.4264, 50.7022, 49.2339, 48.4306, 48.4236, 48.5142, 54.5164, 49.6733, 49.8353, 48.3761, 55.7606, 50.0833, 49.315, 54.3122, 50.1208, 48.6506, 49.6006, 48.6142, 52.1294, 49.5, 48.4517, 50.22, 49.4742, 52.9784, 49.35, 48.9975, 54.0, 49.3256, 49.095, 49.6697, 50.1128, 49.3858, 49.2833, 49.7736, 49.09, 54.7819, 49.5042, 50.4462, 49.0325, 49.1844, 50.4483, 48.3819, 49.4028, 54.0143, 49.0333, 50.7225, 49.7331, 49.6206, 49.0786, 55.3381, 51.3019, 49.3833, 49.1161, 49.8423, 50.2494, 50.5083, 48.8258, 49.9646, 54.3975, 50.5508, 49.0853, 49.4589, 49.2874, 55.6972, 50.3203], \"legendgroup\": \"\", \"lon\": [-123.1, -122.8489, -123.3647, -122.9667, -123.1333, -119.4956, -122.3167, -122.7919, -122.5827, -123.381, -123.0586, -120.3408, -123.9364, -123.0066, -121.9509, -122.8028, -122.6, -122.7494, -122.9111, -122.7811, -119.272, -123.7079, -123.1667, -122.3112, -123.5058, -125.2475, -119.5886, -122.8317, -119.5833, -123.7192, -124.9944, -120.8476, -123.1589, -115.7667, -122.6833, -123.3228, -119.2722, -124.805, -123.4147, -123.4958, -123.3839, -128.5997, -124.9022, -124.5247, -123.7378, -120.2356, -119.4142, -124.31200000000001, -130.3271, -122.9544, -123.3986, -119.6778, -123.42, -122.1383, -117.2833, -123.4339, -119.2481, -123.7542, -122.4927, -124.4333, -123.8203, -128.7, -117.6661, -117.71, -115.9775, -120.7897, -121.4419, -121.75, -119.7369, -116.51, -127.1681, -115.0628, -119.2121, -119.4661, -119.55, -119.1961, -123.5378, -123.5036, -124.0089, -118.44, -127.4928, -114.8853, -125.0261, -117.7992, -123.0944, -116.9667, -123.3833, -117.5414, -119.6743, -118.9656, -116.0303, -124.0542, -119.3178, -126.6419, -119.1397, -123.8259, -120.506, -124.3433, -121.6333, -122.8053], \"marker\": {\"color\": \"#636efa\"}, \"mode\": \"markers\", \"name\": \"\", \"showlegend\": false, \"subplot\": \"mapbox\", \"type\": \"scattermapbox\"}, {\"lat\": [49.1667, 49.0847, 49.25, 49.2667, 49.2069, 49.19, 49.2625, 49.2839, 49.2831, 49.2333, 49.2167, 49.1044, 49.025, 49.1337, 49.05, 49.1577, 49.2833, 49.3858, 49.4589, 49.6006, 49.4911, 49.1844, 49.0325, 49.0333, 49.0786, 49.095, 49.1161, 49.3256, 49.5, 49.09, 49.5097, 49.6697, 50.5083, 51.3019, 49.5042, 49.7331, 49.7736, 49.8423, 49.8625, 49.8881, 49.9646, 50.0833, 50.22, 50.266999999999996, 50.4462, 50.4483, 50.5508, 50.7022, 50.2494, 50.1128, 50.6761, 52.1294, 52.9784, 53.9169, 54.0143, 55.3381, 55.6972, 56.2465, 55.7606, 54.3975, 54.7819, 54.5164, 54.0, 54.3122, 49.3641, 49.3667, 49.3833, 49.4028, 49.4742, 49.1642, 49.0853, 48.9975, 48.8236, 48.7787, 48.6506, 48.6142, 48.5142, 48.483999999999995, 48.4517, 48.4506, 48.4236, 48.3819, 48.3761, 48.4306, 48.4283, 48.4264, 48.8258, 49.315, 49.2874, 49.35, 49.2339, 49.6206, 49.6878, 50.0244, 50.7225, 49.6733, 49.8353, 49.7017, 50.1208, 50.3203, 49.1667], \"lon\": [-123.1333, -123.0586, -123.1, -122.9667, -122.9111, -122.8489, -122.7811, -122.7919, -122.8317, -122.6833, -122.6, -122.5827, -122.8028, -122.3112, -122.3167, -121.9509, -121.75, -121.4419, -120.506, -119.6778, -119.5886, -119.55, -119.4661, -118.44, -117.7992, -117.71, -117.5414, -117.6661, -117.2833, -116.51, -115.7667, -115.9775, -116.0303, -116.9667, -115.0628, -114.8853, -119.7369, -119.6743, -119.5833, -119.4956, -119.3178, -119.4142, -119.2481, -119.272, -119.2121, -119.1961, -119.1397, -119.2722, -118.9656, -120.7897, -120.3408, -122.1383, -122.4927, -122.7494, -124.0089, -123.0944, -121.6333, -120.8476, -120.2356, -126.6419, -127.1681, -128.5997, -128.7, -130.3271, -123.0066, -123.1667, -123.3833, -123.5036, -123.7542, -123.9364, -123.8259, -123.8203, -123.7192, -123.7079, -123.3986, -123.42, -123.3839, -123.381, -123.4339, -123.5058, -123.4958, -123.5378, -123.7378, -123.4147, -123.3647, -123.3228, -124.0542, -124.31200000000001, -124.3433, -124.4333, -124.805, -125.0261, -124.9944, -125.2475, -127.4928, -124.9022, -124.5247, -123.1589, -122.9544, -122.8053, -123.1333], \"marker\": {\"size\": 10}, \"mode\": \"markers+lines\", \"name\": \"Double MST optimal route\", \"type\": \"scattermapbox\"}],\n",
       "                        {\"autosize\": false, \"height\": 1080, \"hovermode\": \"closest\", \"legend\": {\"tracegroupgap\": 0}, \"mapbox\": {\"accesstoken\": \"pk.eyJ1IjoibW9lNTIwIiwiYSI6ImNrNjZ6ZW9obTE4MWwzbGx3em5ja3dyZzgifQ.se2TJofRn8GzoSrNt9O5WA\\n\\n\\n\", \"bearing\": 0, \"center\": {\"lat\": 52.5, \"lon\": -122.8489}, \"domain\": {\"x\": [0.0, 1.0], \"y\": [0.0, 1.0]}, \"pitch\": 0, \"zoom\": 5.4}, \"margin\": {\"t\": 60}, \"template\": {\"data\": {\"bar\": [{\"error_x\": {\"color\": \"#2a3f5f\"}, \"error_y\": {\"color\": \"#2a3f5f\"}, \"marker\": {\"line\": {\"color\": \"#E5ECF6\", \"width\": 0.5}}, \"type\": \"bar\"}], \"barpolar\": [{\"marker\": {\"line\": {\"color\": \"#E5ECF6\", \"width\": 0.5}}, \"type\": \"barpolar\"}], \"carpet\": [{\"aaxis\": {\"endlinecolor\": \"#2a3f5f\", \"gridcolor\": \"white\", \"linecolor\": \"white\", \"minorgridcolor\": \"white\", \"startlinecolor\": \"#2a3f5f\"}, \"baxis\": {\"endlinecolor\": \"#2a3f5f\", \"gridcolor\": \"white\", \"linecolor\": \"white\", \"minorgridcolor\": \"white\", \"startlinecolor\": \"#2a3f5f\"}, \"type\": \"carpet\"}], \"choropleth\": [{\"colorbar\": {\"outlinewidth\": 0, \"ticks\": \"\"}, \"type\": \"choropleth\"}], \"contour\": [{\"colorbar\": {\"outlinewidth\": 0, \"ticks\": \"\"}, \"colorscale\": [[0.0, \"#0d0887\"], [0.1111111111111111, \"#46039f\"], [0.2222222222222222, \"#7201a8\"], [0.3333333333333333, \"#9c179e\"], [0.4444444444444444, \"#bd3786\"], [0.5555555555555556, \"#d8576b\"], [0.6666666666666666, \"#ed7953\"], [0.7777777777777778, \"#fb9f3a\"], [0.8888888888888888, \"#fdca26\"], [1.0, \"#f0f921\"]], \"type\": \"contour\"}], \"contourcarpet\": [{\"colorbar\": {\"outlinewidth\": 0, \"ticks\": \"\"}, \"type\": \"contourcarpet\"}], \"heatmap\": [{\"colorbar\": {\"outlinewidth\": 0, \"ticks\": \"\"}, \"colorscale\": [[0.0, \"#0d0887\"], [0.1111111111111111, \"#46039f\"], [0.2222222222222222, \"#7201a8\"], [0.3333333333333333, \"#9c179e\"], [0.4444444444444444, \"#bd3786\"], [0.5555555555555556, \"#d8576b\"], [0.6666666666666666, \"#ed7953\"], [0.7777777777777778, \"#fb9f3a\"], [0.8888888888888888, \"#fdca26\"], [1.0, \"#f0f921\"]], \"type\": \"heatmap\"}], \"heatmapgl\": [{\"colorbar\": {\"outlinewidth\": 0, \"ticks\": \"\"}, \"colorscale\": [[0.0, \"#0d0887\"], [0.1111111111111111, \"#46039f\"], [0.2222222222222222, \"#7201a8\"], [0.3333333333333333, \"#9c179e\"], [0.4444444444444444, \"#bd3786\"], [0.5555555555555556, \"#d8576b\"], [0.6666666666666666, \"#ed7953\"], [0.7777777777777778, \"#fb9f3a\"], [0.8888888888888888, \"#fdca26\"], [1.0, \"#f0f921\"]], \"type\": \"heatmapgl\"}], \"histogram\": [{\"marker\": {\"colorbar\": {\"outlinewidth\": 0, \"ticks\": \"\"}}, \"type\": \"histogram\"}], \"histogram2d\": [{\"colorbar\": {\"outlinewidth\": 0, \"ticks\": \"\"}, \"colorscale\": [[0.0, \"#0d0887\"], [0.1111111111111111, \"#46039f\"], [0.2222222222222222, \"#7201a8\"], [0.3333333333333333, \"#9c179e\"], [0.4444444444444444, \"#bd3786\"], [0.5555555555555556, \"#d8576b\"], [0.6666666666666666, \"#ed7953\"], [0.7777777777777778, \"#fb9f3a\"], [0.8888888888888888, \"#fdca26\"], [1.0, \"#f0f921\"]], \"type\": \"histogram2d\"}], \"histogram2dcontour\": [{\"colorbar\": {\"outlinewidth\": 0, \"ticks\": \"\"}, \"colorscale\": [[0.0, \"#0d0887\"], [0.1111111111111111, \"#46039f\"], [0.2222222222222222, \"#7201a8\"], [0.3333333333333333, \"#9c179e\"], [0.4444444444444444, \"#bd3786\"], [0.5555555555555556, \"#d8576b\"], [0.6666666666666666, \"#ed7953\"], [0.7777777777777778, \"#fb9f3a\"], [0.8888888888888888, \"#fdca26\"], [1.0, \"#f0f921\"]], \"type\": \"histogram2dcontour\"}], \"mesh3d\": [{\"colorbar\": {\"outlinewidth\": 0, \"ticks\": \"\"}, \"type\": \"mesh3d\"}], \"parcoords\": [{\"line\": {\"colorbar\": {\"outlinewidth\": 0, \"ticks\": \"\"}}, \"type\": \"parcoords\"}], \"pie\": [{\"automargin\": true, \"type\": \"pie\"}], \"scatter\": [{\"marker\": {\"colorbar\": {\"outlinewidth\": 0, \"ticks\": \"\"}}, \"type\": \"scatter\"}], \"scatter3d\": [{\"line\": {\"colorbar\": {\"outlinewidth\": 0, \"ticks\": \"\"}}, \"marker\": {\"colorbar\": {\"outlinewidth\": 0, \"ticks\": \"\"}}, \"type\": \"scatter3d\"}], \"scattercarpet\": [{\"marker\": {\"colorbar\": {\"outlinewidth\": 0, \"ticks\": \"\"}}, \"type\": \"scattercarpet\"}], \"scattergeo\": [{\"marker\": {\"colorbar\": {\"outlinewidth\": 0, \"ticks\": \"\"}}, \"type\": \"scattergeo\"}], \"scattergl\": [{\"marker\": {\"colorbar\": {\"outlinewidth\": 0, \"ticks\": \"\"}}, \"type\": \"scattergl\"}], \"scattermapbox\": [{\"marker\": {\"colorbar\": {\"outlinewidth\": 0, \"ticks\": \"\"}}, \"type\": \"scattermapbox\"}], \"scatterpolar\": [{\"marker\": {\"colorbar\": {\"outlinewidth\": 0, \"ticks\": \"\"}}, \"type\": \"scatterpolar\"}], \"scatterpolargl\": [{\"marker\": {\"colorbar\": {\"outlinewidth\": 0, \"ticks\": \"\"}}, \"type\": \"scatterpolargl\"}], \"scatterternary\": [{\"marker\": {\"colorbar\": {\"outlinewidth\": 0, \"ticks\": \"\"}}, \"type\": \"scatterternary\"}], \"surface\": [{\"colorbar\": {\"outlinewidth\": 0, \"ticks\": \"\"}, \"colorscale\": [[0.0, \"#0d0887\"], [0.1111111111111111, \"#46039f\"], [0.2222222222222222, \"#7201a8\"], [0.3333333333333333, \"#9c179e\"], [0.4444444444444444, \"#bd3786\"], [0.5555555555555556, \"#d8576b\"], [0.6666666666666666, \"#ed7953\"], [0.7777777777777778, \"#fb9f3a\"], [0.8888888888888888, \"#fdca26\"], [1.0, \"#f0f921\"]], \"type\": \"surface\"}], \"table\": [{\"cells\": {\"fill\": {\"color\": \"#EBF0F8\"}, \"line\": {\"color\": \"white\"}}, \"header\": {\"fill\": {\"color\": \"#C8D4E3\"}, \"line\": {\"color\": \"white\"}}, \"type\": \"table\"}]}, \"layout\": {\"annotationdefaults\": {\"arrowcolor\": \"#2a3f5f\", \"arrowhead\": 0, \"arrowwidth\": 1}, \"coloraxis\": {\"colorbar\": {\"outlinewidth\": 0, \"ticks\": \"\"}}, \"colorscale\": {\"diverging\": [[0, \"#8e0152\"], [0.1, \"#c51b7d\"], [0.2, \"#de77ae\"], [0.3, \"#f1b6da\"], [0.4, \"#fde0ef\"], [0.5, \"#f7f7f7\"], [0.6, \"#e6f5d0\"], [0.7, \"#b8e186\"], [0.8, \"#7fbc41\"], [0.9, \"#4d9221\"], [1, \"#276419\"]], \"sequential\": [[0.0, \"#0d0887\"], [0.1111111111111111, \"#46039f\"], [0.2222222222222222, \"#7201a8\"], [0.3333333333333333, \"#9c179e\"], [0.4444444444444444, \"#bd3786\"], [0.5555555555555556, \"#d8576b\"], [0.6666666666666666, \"#ed7953\"], [0.7777777777777778, \"#fb9f3a\"], [0.8888888888888888, \"#fdca26\"], [1.0, \"#f0f921\"]], \"sequentialminus\": [[0.0, \"#0d0887\"], [0.1111111111111111, \"#46039f\"], [0.2222222222222222, \"#7201a8\"], [0.3333333333333333, \"#9c179e\"], [0.4444444444444444, \"#bd3786\"], [0.5555555555555556, \"#d8576b\"], [0.6666666666666666, \"#ed7953\"], [0.7777777777777778, \"#fb9f3a\"], [0.8888888888888888, \"#fdca26\"], [1.0, \"#f0f921\"]]}, \"colorway\": [\"#636efa\", \"#EF553B\", \"#00cc96\", \"#ab63fa\", \"#FFA15A\", \"#19d3f3\", \"#FF6692\", \"#B6E880\", \"#FF97FF\", \"#FECB52\"], \"font\": {\"color\": \"#2a3f5f\"}, \"geo\": {\"bgcolor\": \"white\", \"lakecolor\": \"white\", \"landcolor\": \"#E5ECF6\", \"showlakes\": true, \"showland\": true, \"subunitcolor\": \"white\"}, \"hoverlabel\": {\"align\": \"left\"}, \"hovermode\": \"closest\", \"mapbox\": {\"style\": \"light\"}, \"paper_bgcolor\": \"white\", \"plot_bgcolor\": \"#E5ECF6\", \"polar\": {\"angularaxis\": {\"gridcolor\": \"white\", \"linecolor\": \"white\", \"ticks\": \"\"}, \"bgcolor\": \"#E5ECF6\", \"radialaxis\": {\"gridcolor\": \"white\", \"linecolor\": \"white\", \"ticks\": \"\"}}, \"scene\": {\"xaxis\": {\"backgroundcolor\": \"#E5ECF6\", \"gridcolor\": \"white\", \"gridwidth\": 2, \"linecolor\": \"white\", \"showbackground\": true, \"ticks\": \"\", \"zerolinecolor\": \"white\"}, \"yaxis\": {\"backgroundcolor\": \"#E5ECF6\", \"gridcolor\": \"white\", \"gridwidth\": 2, \"linecolor\": \"white\", \"showbackground\": true, \"ticks\": \"\", \"zerolinecolor\": \"white\"}, \"zaxis\": {\"backgroundcolor\": \"#E5ECF6\", \"gridcolor\": \"white\", \"gridwidth\": 2, \"linecolor\": \"white\", \"showbackground\": true, \"ticks\": \"\", \"zerolinecolor\": \"white\"}}, \"shapedefaults\": {\"line\": {\"color\": \"#2a3f5f\"}}, \"ternary\": {\"aaxis\": {\"gridcolor\": \"white\", \"linecolor\": \"white\", \"ticks\": \"\"}, \"baxis\": {\"gridcolor\": \"white\", \"linecolor\": \"white\", \"ticks\": \"\"}, \"bgcolor\": \"#E5ECF6\", \"caxis\": {\"gridcolor\": \"white\", \"linecolor\": \"white\", \"ticks\": \"\"}}, \"title\": {\"x\": 0.05}, \"xaxis\": {\"automargin\": true, \"gridcolor\": \"white\", \"linecolor\": \"white\", \"ticks\": \"\", \"title\": {\"standoff\": 15}, \"zerolinecolor\": \"white\", \"zerolinewidth\": 2}, \"yaxis\": {\"automargin\": true, \"gridcolor\": \"white\", \"linecolor\": \"white\", \"ticks\": \"\", \"title\": {\"standoff\": 15}, \"zerolinecolor\": \"white\", \"zerolinewidth\": 2}}}, \"width\": 1920},\n",
       "                        {\"responsive\": true}\n",
       "                    ).then(function(){\n",
       "                            \n",
       "var gd = document.getElementById('3c392c17-822b-489c-bd6f-57725ef82802');\n",
       "var x = new MutationObserver(function (mutations, observer) {{\n",
       "        var display = window.getComputedStyle(gd).display;\n",
       "        if (!display || display === 'none') {{\n",
       "            console.log([gd, 'removed!']);\n",
       "            Plotly.purge(gd);\n",
       "            observer.disconnect();\n",
       "        }}\n",
       "}});\n",
       "\n",
       "// Listen for the removal of the full notebook cells\n",
       "var notebookContainer = gd.closest('#notebook-container');\n",
       "if (notebookContainer) {{\n",
       "    x.observe(notebookContainer, {childList: true});\n",
       "}}\n",
       "\n",
       "// Listen for the clearing of the current output cell\n",
       "var outputEl = gd.closest('.output');\n",
       "if (outputEl) {{\n",
       "    x.observe(outputEl, {childList: true});\n",
       "}}\n",
       "\n",
       "                        })\n",
       "                };\n",
       "                });\n",
       "            </script>\n",
       "        </div>"
      ]
     },
     "metadata": {},
     "output_type": "display_data"
    }
   ],
   "source": [
    "px.set_mapbox_access_token(open(\"plotly-key\").read())\n",
    "df = pd.read_csv('../datasets/bc_city_data.csv')\n",
    "df.head\n",
    "fig = px.scatter_mapbox(df, \n",
    "                        lat=\"lat\",\n",
    "                        lon=\"lng\",\n",
    "                        color_continuous_scale=px.colors.cyclical.IceFire, \n",
    "                        size_max=20)\n",
    "\n",
    "# CS trace\n",
    "# fig.add_trace(go.Scattermapbox(\n",
    "#     mode = \"markers+lines\",\n",
    "#     lon = route_lng_CS,\n",
    "#     lat = route_lats_CS,\n",
    "#     name=CS_title,\n",
    "#     marker = {'size': 10}))\n",
    "\n",
    "# NN trace\n",
    "# fig.add_trace(go.Scattermapbox(\n",
    "#     mode = \"markers+lines\",\n",
    "#     lon = route_lng_NN,\n",
    "#     lat = route_lats_NN,\n",
    "#     name=NN_title,\n",
    "#     marker = {'size': 10}))\n",
    "\n",
    "# NI trace\n",
    "# fig.add_trace(go.Scattermapbox(\n",
    "#     mode = \"markers+lines\",\n",
    "#     lon = route_lng_NI,\n",
    "#     lat = route_lats_NI,\n",
    "#     name=NI_title,\n",
    "#     marker = {'size': 8}))\n",
    "\n",
    "# DMST trace\n",
    "fig.add_trace(go.Scattermapbox(\n",
    "    mode = \"markers+lines\",\n",
    "    lon = route_lng_dmst,\n",
    "    lat = route_lats_dmst,\n",
    "    name=DMST_tile,\n",
    "    marker = {'size': 10}))\n",
    "\n",
    "fig.update_layout(\n",
    "    autosize=False,\n",
    "    width=1920,\n",
    "    height=1080,\n",
    "    hovermode='closest',\n",
    "    mapbox=dict(\n",
    "        bearing=0,\n",
    "        center=go.layout.mapbox.Center(\n",
    "            lat=52.5,\n",
    "            lon=-122.8489\n",
    "        ),\n",
    "        pitch=0,\n",
    "        zoom=5.4\n",
    "    )\n",
    ")\n",
    "\n",
    "fig.show()\n",
    "fig.write_image('cs-map.png')\n"
   ]
  },
  {
   "cell_type": "code",
   "execution_count": null,
   "metadata": {},
   "outputs": [],
   "source": [
    "import math\n",
    "lat1=52.5\n",
    "lon1=-122.8489\n",
    "\n",
    "def ll_xy(lat, lon, lat0, lon0):\n",
    "    dx = (lon0-lon)*40000*math.cos((lat0+lat)*math.pi/360)/360\n",
    "    dy = (lat0-lat)*40000/360\n",
    "    return -dx, -dy\n",
    "\n",
    "# for i in range(0, len())\n",
    "lat = np.array(df.iloc[:,4])\n",
    "long = np.array(df.iloc[:,5])\n",
    "\n",
    "points = []\n",
    "for i in range(0,len(lat)):\n",
    "    points.append(ll_xy(lat[i], long[i], lat1, lon1))\n",
    "              \n",
    "n = len(points)\n",
    "A = np.zeros((n,n))\n",
    "for i in range(0, n):\n",
    "    for j in range(0, n):\n",
    "        a = np.matrix(points[i])\n",
    "        b = np.matrix(points[j])\n",
    "        A[i][j] = np.linalg.norm(a-b)\n",
    "\n",
    "# np.savetxt(\"../datasets/bc100_xy.csv\", points, delimiter=\",\")\n"
   ]
  },
  {
   "cell_type": "code",
   "execution_count": null,
   "metadata": {},
   "outputs": [],
   "source": [
    "opt_tour_edgeList1"
   ]
  }
 ],
 "metadata": {
  "kernelspec": {
   "display_name": "Python 3",
   "language": "python",
   "name": "python3"
  },
  "language_info": {
   "codemirror_mode": {
    "name": "ipython",
    "version": 3
   },
   "file_extension": ".py",
   "mimetype": "text/x-python",
   "name": "python",
   "nbconvert_exporter": "python",
   "pygments_lexer": "ipython3",
   "version": "3.7.6"
  }
 },
 "nbformat": 4,
 "nbformat_minor": 4
}
